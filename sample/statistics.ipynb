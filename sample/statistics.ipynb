{
 "cells": [
  {
   "cell_type": "code",
   "execution_count": 1,
   "metadata": {},
   "outputs": [],
   "source": [
    "# setting\n",
    "import pandas as pd\n",
    "from pandasql import sqldf\n",
    "data = pd.read_csv('./data.csv')"
   ]
  },
  {
   "cell_type": "markdown",
   "metadata": {},
   "source": [
    "#### 특정 컬럼의 통계량 확인"
   ]
  },
  {
   "cell_type": "code",
   "execution_count": 2,
   "metadata": {},
   "outputs": [
    {
     "data": {
      "text/plain": [
       "count    8807.000000\n",
       "mean     2014.180198\n",
       "std         8.819312\n",
       "min      1925.000000\n",
       "25%      2013.000000\n",
       "50%      2017.000000\n",
       "75%      2019.000000\n",
       "max      2021.000000\n",
       "Name: release_year, dtype: float64"
      ]
     },
     "execution_count": 2,
     "metadata": {},
     "output_type": "execute_result"
    }
   ],
   "source": [
    "# pandas\n",
    "data['release_year'].describe()"
   ]
  },
  {
   "cell_type": "code",
   "execution_count": 3,
   "metadata": {},
   "outputs": [
    {
     "data": {
      "text/html": [
       "<div>\n",
       "<style scoped>\n",
       "    .dataframe tbody tr th:only-of-type {\n",
       "        vertical-align: middle;\n",
       "    }\n",
       "\n",
       "    .dataframe tbody tr th {\n",
       "        vertical-align: top;\n",
       "    }\n",
       "\n",
       "    .dataframe thead th {\n",
       "        text-align: right;\n",
       "    }\n",
       "</style>\n",
       "<table border=\"1\" class=\"dataframe\">\n",
       "  <thead>\n",
       "    <tr style=\"text-align: right;\">\n",
       "      <th></th>\n",
       "      <th>count</th>\n",
       "      <th>mean</th>\n",
       "      <th>var</th>\n",
       "      <th>min</th>\n",
       "      <th>25%</th>\n",
       "      <th>50%</th>\n",
       "      <th>75%</th>\n",
       "      <th>max</th>\n",
       "    </tr>\n",
       "  </thead>\n",
       "  <tbody>\n",
       "    <tr>\n",
       "      <th>0</th>\n",
       "      <td>8807</td>\n",
       "      <td>2014.180198</td>\n",
       "      <td>77.771435</td>\n",
       "      <td>1925</td>\n",
       "      <td>2012.0</td>\n",
       "      <td>2017.0</td>\n",
       "      <td>2019.0</td>\n",
       "      <td>2021</td>\n",
       "    </tr>\n",
       "  </tbody>\n",
       "</table>\n",
       "</div>"
      ],
      "text/plain": [
       "   count         mean        var   min     25%     50%     75%   max\n",
       "0   8807  2014.180198  77.771435  1925  2012.0  2017.0  2019.0  2021"
      ]
     },
     "execution_count": 3,
     "metadata": {},
     "output_type": "execute_result"
    }
   ],
   "source": [
    "query = \\\n",
    "'''\n",
    "WITH temp_s AS (SELECT COUNT(release_year) as count,\n",
    "                       AVG(release_year) as mean,\n",
    "                       MIN(release_year) as min,\n",
    "                       MAX(release_year) as max\n",
    "                FROM data),\n",
    "     temp_q AS (SELECT PERCENT_RANK() OVER (ORDER BY release_year) AS rank,\n",
    "                       release_year\n",
    "                FROM data)\n",
    "\n",
    "SELECT\n",
    "    temp_s.count as count,\n",
    "    temp_s.mean as mean,\n",
    "    SUM((temp_q.release_year - (temp_s.mean)) * (temp_q.release_year - (temp_s.mean))) / temp_s.count as var,\n",
    "    temp_s.min as min,\n",
    "    ROUND(AVG(CASE WHEN ROUND(temp_q.rank, 1) = 0.2 THEN temp_q.release_year END), 0) AS '25%',\n",
    "    ROUND(AVG(CASE WHEN ROUND(temp_q.rank, 1) = 0.5 THEN temp_q.release_year END), 0) AS '50%',\n",
    "    ROUND(AVG(CASE WHEN ROUND(temp_q.rank, 1) = 0.7 THEN temp_q.release_year END), 0) AS '75%',\n",
    "    temp_s.max as max\n",
    "FROM temp_s, temp_q\n",
    "'''\n",
    "sqldf(query) # sqldf가 SQRT()를 지원하지 읺이 std를 var로 대체"
   ]
  }
 ],
 "metadata": {
  "kernelspec": {
   "display_name": "seungyoon",
   "language": "python",
   "name": "python3"
  },
  "language_info": {
   "codemirror_mode": {
    "name": "ipython",
    "version": 3
   },
   "file_extension": ".py",
   "mimetype": "text/x-python",
   "name": "python",
   "nbconvert_exporter": "python",
   "pygments_lexer": "ipython3",
   "version": "3.8.0"
  }
 },
 "nbformat": 4,
 "nbformat_minor": 2
}
